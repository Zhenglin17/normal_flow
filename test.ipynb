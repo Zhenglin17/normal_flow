{
 "cells": [
  {
   "cell_type": "code",
   "execution_count": 1,
   "id": "1ae88e37",
   "metadata": {},
   "outputs": [
    {
     "name": "stdout",
     "output_type": "stream",
     "text": [
      "[-1  3 -4]\n",
      "[-37  21   1]\n",
      "[[ -1   3  -4]\n",
      " [-37  21   1]]\n"
     ]
    }
   ],
   "source": [
    "import numpy as np\n",
    "a = np.array([1, 3, 2])\n",
    "b = np.array([4, 8, 5])\n",
    "a_b_cross = np.cross(a, b)\n",
    "c = np.array([3, 5, 6])\n",
    "d = np.array([4, 7, 1])\n",
    "c_d_cross = np.cross(c, d)\n",
    "a_c = np.vstack((a, c))\n",
    "b_d = np.vstack((b, d))\n",
    "cross = np.cross(a_c, b_d)\n",
    "print(a_b_cross)\n",
    "print(c_d_cross)\n",
    "print(cross)"
   ]
  },
  {
   "cell_type": "code",
   "execution_count": 4,
   "id": "99492b9e",
   "metadata": {},
   "outputs": [
    {
     "name": "stdout",
     "output_type": "stream",
     "text": [
      "38\n",
      "53\n",
      "[38 53]\n"
     ]
    }
   ],
   "source": [
    "a_b_dot = np.dot(a, b)\n",
    "c_d_dot = np.dot(c, d)\n",
    "dot = np.sum(a_c*b_d, axis=1)\n",
    "print(a_b_dot)\n",
    "print(c_d_dot)\n",
    "print(dot)"
   ]
  },
  {
   "cell_type": "code",
   "execution_count": null,
   "id": "12d36338",
   "metadata": {},
   "outputs": [],
   "source": []
  }
 ],
 "metadata": {
  "kernelspec": {
   "display_name": "Python 3 (ipykernel)",
   "language": "python",
   "name": "python3"
  },
  "language_info": {
   "codemirror_mode": {
    "name": "ipython",
    "version": 3
   },
   "file_extension": ".py",
   "mimetype": "text/x-python",
   "name": "python",
   "nbconvert_exporter": "python",
   "pygments_lexer": "ipython3",
   "version": "3.11.4"
  }
 },
 "nbformat": 4,
 "nbformat_minor": 5
}
